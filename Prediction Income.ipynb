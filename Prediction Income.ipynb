{
 "cells": [
  {
   "cell_type": "code",
   "execution_count": 8,
   "id": "9fc4e5c9-99e5-4bcb-b8b7-e7bef0365071",
   "metadata": {},
   "outputs": [],
   "source": [
    "import numpy as np\n",
    "from sklearn.model_selection import train_test_split\n",
    "from sklearn.preprocessing import StandardScaler"
   ]
  },
  {
   "cell_type": "code",
   "execution_count": 9,
   "id": "a757743f-74a5-4b7b-bde9-e14205568896",
   "metadata": {},
   "outputs": [],
   "source": [
    "# Load dataset\n",
    "file_path = 'driver_income.json'  # Update this with your actual file path\n",
    "data = pd.read_json(file_path)"
   ]
  },
  {
   "cell_type": "code",
   "execution_count": 10,
   "id": "28a00c56-90d3-43d4-b703-9ae430b2cedd",
   "metadata": {},
   "outputs": [],
   "source": [
    "# Encode ownership (convert to binary values: 'rent' = 0, 'own' = 1)\n",
    "data['ownership'] = data['ownership'].map({'rent': 0, 'own': 1})\n",
    "\n",
    "# Select features and target variable\n",
    "X = data[['tenure', 'ownership', 'avg_passenger', 'avg_milage_normalized', 'avg_usage_duration', 'avg_distance_normalized']]\n",
    "y = data['income']\n",
    "\n",
    "# Normalize features for better gradient descent performance\n",
    "scaler = StandardScaler()\n",
    "X_scaled = scaler.fit_transform(X)\n",
    "\n",
    "# Split the data into training and testing sets\n",
    "X_train, X_test, y_train, y_test = train_test_split(X_scaled, y, test_size=0.2, random_state=42)"
   ]
  },
  {
   "cell_type": "code",
   "execution_count": 14,
   "id": "cafb48df-f17a-4870-bfef-397ac0904947",
   "metadata": {},
   "outputs": [
    {
     "name": "stdout",
     "output_type": "stream",
     "text": [
      "Coefficients: [-6.72226917e+01 -1.48238737e+03  2.55624989e+01  3.40842401e+03\n",
      "  7.57482638e+03  3.78760192e+04]\n"
     ]
    }
   ],
   "source": [
    "# Initialize Parameters\n",
    "m, n = X_train.shape  # Number of samples and features\n",
    "theta = np.zeros(n)   # Initialize coefficients\n",
    "learning_rate = 0.01  # Learning rate\n",
    "num_iterations = 1000 # Number of iterations\n",
    "\n",
    "# Gradient Descent\n",
    "for _ in range(num_iterations):\n",
    "    # Calculate predictions\n",
    "    y_pred = X_train.dot(theta)\n",
    "    \n",
    "    # Calculate gradient\n",
    "    gradient = (1 / m) * X_train.T.dot(y_pred - y_train)\n",
    "    \n",
    "    # Update coefficients\n",
    "    theta -= learning_rate * gradient\n",
    "\n",
    "# Output the coefficients\n",
    "print(\"Coefficients:\", theta)"
   ]
  }
 ],
 "metadata": {
  "kernelspec": {
   "display_name": "Python 3 (ipykernel)",
   "language": "python",
   "name": "python3"
  },
  "language_info": {
   "codemirror_mode": {
    "name": "ipython",
    "version": 3
   },
   "file_extension": ".py",
   "mimetype": "text/x-python",
   "name": "python",
   "nbconvert_exporter": "python",
   "pygments_lexer": "ipython3",
   "version": "3.10.11"
  }
 },
 "nbformat": 4,
 "nbformat_minor": 5
}
