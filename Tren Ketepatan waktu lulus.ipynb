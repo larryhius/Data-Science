#!/usr/bin/env python
# coding: utf-8

# # Visualisasi Data
# Penggambarkan hubungan antara jenis kelamin dan status kelulusan.

# **Import Library**

# In[5]:


import pandas as pd
import seaborn as sns
import matplotlib.pyplot as plt


