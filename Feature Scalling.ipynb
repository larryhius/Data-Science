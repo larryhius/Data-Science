{
 "cells": [
  {
   "cell_type": "markdown",
   "id": "b12e6538-eaf4-4d09-a804-968bb3e5fde1",
   "metadata": {},
   "source": [
    "# Feature Scalling"
   ]
  },
  {
   "cell_type": "code",
   "execution_count": 9,
   "id": "6fe10930-399b-4f3c-a03d-70b298fe2448",
   "metadata": {},
   "outputs": [],
   "source": [
    "import pandas as pd\n",
    "from sklearn.preprocessing import MinMaxScaler\n",
    "from sklearn.preprocessing import StandardScaler\n",
    "from sklearn.preprocessing import RobustScaler"
   ]
  },
  {
   "cell_type": "code",
   "execution_count": 6,
   "id": "afb848b6-8b4d-4ac9-a99d-49d15c913629",
   "metadata": {},
   "outputs": [
    {
     "data": {
      "text/html": [
       "<div>\n",
       "<style scoped>\n",
       "    .dataframe tbody tr th:only-of-type {\n",
       "        vertical-align: middle;\n",
       "    }\n",
       "\n",
       "    .dataframe tbody tr th {\n",
       "        vertical-align: top;\n",
       "    }\n",
       "\n",
       "    .dataframe thead th {\n",
       "        text-align: right;\n",
       "    }\n",
       "</style>\n",
       "<table border=\"1\" class=\"dataframe\">\n",
       "  <thead>\n",
       "    <tr style=\"text-align: right;\">\n",
       "      <th></th>\n",
       "      <th>Age</th>\n",
       "      <th>Salary</th>\n",
       "    </tr>\n",
       "  </thead>\n",
       "  <tbody>\n",
       "    <tr>\n",
       "      <th>0</th>\n",
       "      <td>25</td>\n",
       "      <td>50000</td>\n",
       "    </tr>\n",
       "    <tr>\n",
       "      <th>1</th>\n",
       "      <td>45</td>\n",
       "      <td>100000</td>\n",
       "    </tr>\n",
       "    <tr>\n",
       "      <th>2</th>\n",
       "      <td>35</td>\n",
       "      <td>75000</td>\n",
       "    </tr>\n",
       "    <tr>\n",
       "      <th>3</th>\n",
       "      <td>50</td>\n",
       "      <td>120000</td>\n",
       "    </tr>\n",
       "    <tr>\n",
       "      <th>4</th>\n",
       "      <td>23</td>\n",
       "      <td>40000</td>\n",
       "    </tr>\n",
       "  </tbody>\n",
       "</table>\n",
       "</div>"
      ],
      "text/plain": [
       "   Age  Salary\n",
       "0   25   50000\n",
       "1   45  100000\n",
       "2   35   75000\n",
       "3   50  120000\n",
       "4   23   40000"
      ]
     },
     "execution_count": 6,
     "metadata": {},
     "output_type": "execute_result"
    }
   ],
   "source": [
    "data = {\n",
    "    'Age': [25, 45, 35, 50, 23],\n",
    "    'Salary': [50000, 100000, 75000, 120000, 40000]\n",
    "}\n",
    "df = pd.DataFrame(data)\n",
    "df"
   ]
  },
  {
   "cell_type": "code",
   "execution_count": 7,
   "id": "b53b2eef-b6dd-474a-86d6-ff2acefe4fb4",
   "metadata": {},
   "outputs": [
    {
     "name": "stdout",
     "output_type": "stream",
     "text": [
      "\n",
      "Min-Max Scaling:\n",
      "         Age  Salary\n",
      "0  0.074074  0.1250\n",
      "1  0.814815  0.7500\n",
      "2  0.444444  0.4375\n",
      "3  1.000000  1.0000\n",
      "4  0.000000  0.0000\n"
     ]
    }
   ],
   "source": [
    "scaler = MinMaxScaler()\n",
    "df_minmax = pd.DataFrame(scaler.fit_transform(df), columns=df.columns)\n",
    "print(\"\\nMin-Max Scaling:\\n\", df_minmax)"
   ]
  },
  {
   "cell_type": "code",
   "execution_count": 8,
   "id": "e54d9326-02e7-439e-aff1-1a4d09357a30",
   "metadata": {},
   "outputs": [
    {
     "name": "stdout",
     "output_type": "stream",
     "text": [
      "\n",
      "Standardization:\n",
      "         Age    Salary\n",
      "0 -0.995228 -0.902007\n",
      "1  0.882561  0.768376\n",
      "2 -0.056334 -0.066815\n",
      "3  1.352008  1.436529\n",
      "4 -1.183007 -1.236083\n"
     ]
    }
   ],
   "source": [
    "scaler = StandardScaler()\n",
    "df_standard = pd.DataFrame(scaler.fit_transform(df), columns=df.columns)\n",
    "print(\"\\nStandardization:\\n\", df_standard)"
   ]
  },
  {
   "cell_type": "code",
   "execution_count": 10,
   "id": "fcff54c5-9747-4994-a254-dedfeaabaf51",
   "metadata": {},
   "outputs": [
    {
     "name": "stdout",
     "output_type": "stream",
     "text": [
      "\n",
      "Robust Scaling:\n",
      "     Age  Salary\n",
      "0 -0.50    -0.5\n",
      "1  0.50     0.5\n",
      "2  0.00     0.0\n",
      "3  0.75     0.9\n",
      "4 -0.60    -0.7\n"
     ]
    }
   ],
   "source": [
    "scaler = RobustScaler()\n",
    "df_robust = pd.DataFrame(scaler.fit_transform(df), columns=df.columns)\n",
    "print(\"\\nRobust Scaling:\\n\", df_robust)"
   ]
  },
  {
   "cell_type": "code",
   "execution_count": null,
   "id": "9e268ead-25d8-4b68-8bc7-b2ac9ef25588",
   "metadata": {},
   "outputs": [],
   "source": []
  }
 ],
 "metadata": {
  "kernelspec": {
   "display_name": "Python 3 (ipykernel)",
   "language": "python",
   "name": "python3"
  },
  "language_info": {
   "codemirror_mode": {
    "name": "ipython",
    "version": 3
   },
   "file_extension": ".py",
   "mimetype": "text/x-python",
   "name": "python",
   "nbconvert_exporter": "python",
   "pygments_lexer": "ipython3",
   "version": "3.10.11"
  }
 },
 "nbformat": 4,
 "nbformat_minor": 5
}
