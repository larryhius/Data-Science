{
 "cells": [
  {
   "cell_type": "code",
   "execution_count": 11,
   "id": "38d8da82-bcdd-47c5-aa0f-1273a7c26c3c",
   "metadata": {},
   "outputs": [],
   "source": [
    "import scipy.stats as stats\n",
    "import numpy as np"
   ]
  },
  {
   "cell_type": "code",
   "execution_count": 12,
   "id": "3e4456c8-29db-4eea-bebf-9d5cca6ad43a",
   "metadata": {},
   "outputs": [],
   "source": [
    "mean_daily_sales = 100 / 50  # mean daily sales\n",
    "days_in_month = 30\n",
    "\n",
    "std_dev = np.sqrt(mean_daily_sales)  "
   ]
  },
  {
   "cell_type": "code",
   "execution_count": 13,
   "id": "b6de9ec1-7f40-48c2-b98b-94bfbe8b8e6b",
   "metadata": {},
   "outputs": [],
   "source": [
    "# Confidence Interval\n",
    "z_score = 1.96  # for 95% confidence"
   ]
  },
  {
   "cell_type": "code",
   "execution_count": 14,
   "id": "30f80d62-fe6f-40c0-b4b5-8be02ca0d4b3",
   "metadata": {},
   "outputs": [
    {
     "name": "stdout",
     "output_type": "stream",
     "text": [
      "95% Confidence Interval for monthly sales: 59.49 to 60.51\n"
     ]
    }
   ],
   "source": [
    "# Monthly estimate\n",
    "mean_monthly_sales = mean_daily_sales * days_in_month\n",
    "std_error = std_dev / np.sqrt(days_in_month)\n",
    "\n",
    "lower_bound = mean_monthly_sales - z_score * std_error\n",
    "upper_bound = mean_monthly_sales + z_score * std_error\n",
    "\n",
    "print(f\"95% Confidence Interval for monthly sales: {lower_bound:.2f} to {upper_bound:.2f}\")"
   ]
  }
 ],
 "metadata": {
  "kernelspec": {
   "display_name": "Python 3 (ipykernel)",
   "language": "python",
   "name": "python3"
  },
  "language_info": {
   "codemirror_mode": {
    "name": "ipython",
    "version": 3
   },
   "file_extension": ".py",
   "mimetype": "text/x-python",
   "name": "python",
   "nbconvert_exporter": "python",
   "pygments_lexer": "ipython3",
   "version": "3.10.11"
  }
 },
 "nbformat": 4,
 "nbformat_minor": 5
}
